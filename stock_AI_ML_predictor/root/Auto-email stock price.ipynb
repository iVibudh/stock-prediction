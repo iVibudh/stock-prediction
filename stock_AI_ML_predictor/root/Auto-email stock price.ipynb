{
 "cells": [
  {
   "cell_type": "code",
   "execution_count": 10,
   "metadata": {},
   "outputs": [],
   "source": [
    "import yagmail\n",
    "import pandas as pd\n",
    "from pandas_datareader import data\n",
    "import datetime"
   ]
  },
  {
   "cell_type": "code",
   "execution_count": 11,
   "metadata": {},
   "outputs": [],
   "source": [
    "path1 = \"C:\\\\Users\\\\singvibu\\\\Desktop\\\\AI.ML.Stocks.Pwd.txt\"\n",
    "#path1 = \"C:\\\\Users\\\\T1Vibudh\\\\Desktop\\\\AI.ML.Stocks.Pwd.txt\"\n",
    "f = open(path1, \"r\")\n",
    "passw = f.read()\n",
    "f.close()"
   ]
  },
  {
   "cell_type": "code",
   "execution_count": 27,
   "metadata": {},
   "outputs": [],
   "source": [
    "now = datetime.datetime.now()\n",
    "date_time = now.strftime(\"%m/%d/%Y, %H:%M:%S\")"
   ]
  },
  {
   "cell_type": "code",
   "execution_count": 28,
   "metadata": {},
   "outputs": [],
   "source": [
    "t = 'SQ'\n",
    "marketCap = data.get_quote_yahoo(t)['marketCap']\n"
   ]
  },
  {
   "cell_type": "code",
   "execution_count": 31,
   "metadata": {},
   "outputs": [],
   "source": [
    "receiver = \"ivibudh@gmail.com\"\n",
    "sender = \"ai.ml.stocks@gmail.com\"\n",
    "\n",
    "body = \"\"\"Hello there from AI-ML-Stocks\n",
    "Update Date-Time: \"\"\" + date_time + \"\"\" \n",
    "Market Cap of \"\"\" + t + \" is $\" + str(marketCap).split()[1] + \".\""
   ]
  },
  {
   "cell_type": "code",
   "execution_count": 32,
   "metadata": {},
   "outputs": [
    {
     "data": {
      "text/plain": [
       "{}"
      ]
     },
     "execution_count": 32,
     "metadata": {},
     "output_type": "execute_result"
    }
   ],
   "source": [
    "yag = yagmail.SMTP(\"ai.ml.stocks@gmail.com\", passw)\n",
    "yag.send(\n",
    "    to = receiver,\n",
    "    subject =\"Yagmail test emsil\",\n",
    "    contents = body,)"
   ]
  }
 ],
 "metadata": {
  "kernelspec": {
   "display_name": "Python 3",
   "language": "python",
   "name": "python3"
  },
  "language_info": {
   "codemirror_mode": {
    "name": "ipython",
    "version": 3
   },
   "file_extension": ".py",
   "mimetype": "text/x-python",
   "name": "python",
   "nbconvert_exporter": "python",
   "pygments_lexer": "ipython3",
   "version": "3.7.6"
  }
 },
 "nbformat": 4,
 "nbformat_minor": 2
}
